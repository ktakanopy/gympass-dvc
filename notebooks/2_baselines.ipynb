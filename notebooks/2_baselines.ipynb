{
 "cells": [
  {
   "cell_type": "code",
   "execution_count": 2,
   "metadata": {},
   "outputs": [],
   "source": [
    "import pandas as pd\n",
    "import seaborn as sns\n",
    "import numpy as np\n",
    "import missingno as msno\n",
    "import matplotlib.pyplot as plt\n",
    "from typing import Dict, Union\n",
    "from typing import Optional, Tuple\n",
    "\n",
    "import joblib"
   ]
  },
  {
   "cell_type": "code",
   "execution_count": 3,
   "metadata": {},
   "outputs": [],
   "source": [
    "TARGET_FEATURES = ['is_churn', 'is_keep','is_upgrade', 'churn_target', 'multiclass_target', 'churn_target_names', 'multiclass_target_names', 'churn_target']\n",
    "IGNORE_FEATURES = ['gym', 'user', 'communication_date', 'heuristic_prediction']"
   ]
  },
  {
   "cell_type": "markdown",
   "metadata": {},
   "source": [
    "# Load data"
   ]
  },
  {
   "cell_type": "markdown",
   "metadata": {},
   "source": [
    "- The \"train.xlxs\" here is the past user's data\n",
    "- The \"submission.xlsx\" is the \"application\" file you sent to me."
   ]
  },
  {
   "cell_type": "code",
   "execution_count": 4,
   "metadata": {},
   "outputs": [
    {
     "data": {
      "text/html": [
       "<div>\n",
       "<style scoped>\n",
       "    .dataframe tbody tr th:only-of-type {\n",
       "        vertical-align: middle;\n",
       "    }\n",
       "\n",
       "    .dataframe tbody tr th {\n",
       "        vertical-align: top;\n",
       "    }\n",
       "\n",
       "    .dataframe thead th {\n",
       "        text-align: right;\n",
       "    }\n",
       "</style>\n",
       "<table border=\"1\" class=\"dataframe\">\n",
       "  <thead>\n",
       "    <tr style=\"text-align: right;\">\n",
       "      <th></th>\n",
       "      <th>communication_date</th>\n",
       "      <th>gym</th>\n",
       "      <th>gym_category</th>\n",
       "      <th>gym_days_since_first_visit</th>\n",
       "      <th>gym_last_60_days_visits</th>\n",
       "      <th>gyms_5km</th>\n",
       "      <th>is_churn</th>\n",
       "      <th>is_keep</th>\n",
       "      <th>is_upgrade</th>\n",
       "      <th>user</th>\n",
       "      <th>user_age</th>\n",
       "      <th>user_billings</th>\n",
       "      <th>user_days_since_first_billing</th>\n",
       "      <th>user_days_since_first_gym_visit</th>\n",
       "      <th>user_days_since_first_visit</th>\n",
       "      <th>user_last_60_days_visit_share</th>\n",
       "      <th>user_last_60_days_visits</th>\n",
       "      <th>user_lifetime_visit_share</th>\n",
       "      <th>user_lifetime_visits</th>\n",
       "      <th>user_plan</th>\n",
       "    </tr>\n",
       "  </thead>\n",
       "  <tbody>\n",
       "    <tr>\n",
       "      <th>0</th>\n",
       "      <td>2021-10-25</td>\n",
       "      <td>0</td>\n",
       "      <td>bodybuilding</td>\n",
       "      <td>472</td>\n",
       "      <td>3751</td>\n",
       "      <td>35</td>\n",
       "      <td>0</td>\n",
       "      <td>1</td>\n",
       "      <td>0</td>\n",
       "      <td>0</td>\n",
       "      <td>50</td>\n",
       "      <td>13</td>\n",
       "      <td>1833.0</td>\n",
       "      <td>346</td>\n",
       "      <td>1833</td>\n",
       "      <td>5.263158e+15</td>\n",
       "      <td>19</td>\n",
       "      <td>1.170213e+16</td>\n",
       "      <td>94.0</td>\n",
       "      <td>Silver</td>\n",
       "    </tr>\n",
       "    <tr>\n",
       "      <th>1</th>\n",
       "      <td>2021-06-20</td>\n",
       "      <td>1</td>\n",
       "      <td>not found</td>\n",
       "      <td>2176</td>\n",
       "      <td>357</td>\n",
       "      <td>7</td>\n",
       "      <td>0</td>\n",
       "      <td>1</td>\n",
       "      <td>0</td>\n",
       "      <td>1</td>\n",
       "      <td>45</td>\n",
       "      <td>87</td>\n",
       "      <td>2608.0</td>\n",
       "      <td>54</td>\n",
       "      <td>1719</td>\n",
       "      <td>1.000000e+00</td>\n",
       "      <td>2</td>\n",
       "      <td>6.153846e+15</td>\n",
       "      <td>325.0</td>\n",
       "      <td>Basic II</td>\n",
       "    </tr>\n",
       "    <tr>\n",
       "      <th>2</th>\n",
       "      <td>2021-10-25</td>\n",
       "      <td>2</td>\n",
       "      <td>bodybuilding</td>\n",
       "      <td>895</td>\n",
       "      <td>3132</td>\n",
       "      <td>41</td>\n",
       "      <td>0</td>\n",
       "      <td>1</td>\n",
       "      <td>0</td>\n",
       "      <td>2</td>\n",
       "      <td>27</td>\n",
       "      <td>9</td>\n",
       "      <td>271.0</td>\n",
       "      <td>264</td>\n",
       "      <td>271</td>\n",
       "      <td>1.162791e+16</td>\n",
       "      <td>43</td>\n",
       "      <td>1.206030e+16</td>\n",
       "      <td>199.0</td>\n",
       "      <td>Basic I</td>\n",
       "    </tr>\n",
       "    <tr>\n",
       "      <th>3</th>\n",
       "      <td>2021-10-25</td>\n",
       "      <td>3</td>\n",
       "      <td>bodybuilding</td>\n",
       "      <td>896</td>\n",
       "      <td>4775</td>\n",
       "      <td>42</td>\n",
       "      <td>0</td>\n",
       "      <td>1</td>\n",
       "      <td>0</td>\n",
       "      <td>3</td>\n",
       "      <td>29</td>\n",
       "      <td>9</td>\n",
       "      <td>271.0</td>\n",
       "      <td>268</td>\n",
       "      <td>271</td>\n",
       "      <td>1.627907e+16</td>\n",
       "      <td>43</td>\n",
       "      <td>1.557789e+16</td>\n",
       "      <td>199.0</td>\n",
       "      <td>Basic I</td>\n",
       "    </tr>\n",
       "    <tr>\n",
       "      <th>4</th>\n",
       "      <td>2021-12-12</td>\n",
       "      <td>4</td>\n",
       "      <td>not found</td>\n",
       "      <td>1516</td>\n",
       "      <td>503</td>\n",
       "      <td>65</td>\n",
       "      <td>0</td>\n",
       "      <td>0</td>\n",
       "      <td>1</td>\n",
       "      <td>4</td>\n",
       "      <td>22</td>\n",
       "      <td>20</td>\n",
       "      <td>729.0</td>\n",
       "      <td>726</td>\n",
       "      <td>726</td>\n",
       "      <td>1.000000e+00</td>\n",
       "      <td>29</td>\n",
       "      <td>1.000000e+00</td>\n",
       "      <td>119.0</td>\n",
       "      <td>Silver</td>\n",
       "    </tr>\n",
       "    <tr>\n",
       "      <th>...</th>\n",
       "      <td>...</td>\n",
       "      <td>...</td>\n",
       "      <td>...</td>\n",
       "      <td>...</td>\n",
       "      <td>...</td>\n",
       "      <td>...</td>\n",
       "      <td>...</td>\n",
       "      <td>...</td>\n",
       "      <td>...</td>\n",
       "      <td>...</td>\n",
       "      <td>...</td>\n",
       "      <td>...</td>\n",
       "      <td>...</td>\n",
       "      <td>...</td>\n",
       "      <td>...</td>\n",
       "      <td>...</td>\n",
       "      <td>...</td>\n",
       "      <td>...</td>\n",
       "      <td>...</td>\n",
       "      <td>...</td>\n",
       "    </tr>\n",
       "    <tr>\n",
       "      <th>31256</th>\n",
       "      <td>2021-12-04</td>\n",
       "      <td>19</td>\n",
       "      <td>not found</td>\n",
       "      <td>144</td>\n",
       "      <td>14979</td>\n",
       "      <td>28</td>\n",
       "      <td>0</td>\n",
       "      <td>0</td>\n",
       "      <td>1</td>\n",
       "      <td>31256</td>\n",
       "      <td>22</td>\n",
       "      <td>2</td>\n",
       "      <td>25.0</td>\n",
       "      <td>24</td>\n",
       "      <td>24</td>\n",
       "      <td>2.500000e-01</td>\n",
       "      <td>4</td>\n",
       "      <td>2.500000e-01</td>\n",
       "      <td>4.0</td>\n",
       "      <td>Silver</td>\n",
       "    </tr>\n",
       "    <tr>\n",
       "      <th>31257</th>\n",
       "      <td>2021-12-04</td>\n",
       "      <td>19</td>\n",
       "      <td>not found</td>\n",
       "      <td>144</td>\n",
       "      <td>14979</td>\n",
       "      <td>28</td>\n",
       "      <td>1</td>\n",
       "      <td>0</td>\n",
       "      <td>0</td>\n",
       "      <td>31257</td>\n",
       "      <td>66</td>\n",
       "      <td>1</td>\n",
       "      <td>19.0</td>\n",
       "      <td>19</td>\n",
       "      <td>19</td>\n",
       "      <td>1.000000e+00</td>\n",
       "      <td>1</td>\n",
       "      <td>1.000000e+00</td>\n",
       "      <td>1.0</td>\n",
       "      <td>Silver</td>\n",
       "    </tr>\n",
       "    <tr>\n",
       "      <th>31258</th>\n",
       "      <td>2021-12-11</td>\n",
       "      <td>109</td>\n",
       "      <td>bodybuilding</td>\n",
       "      <td>1062</td>\n",
       "      <td>1466</td>\n",
       "      <td>69</td>\n",
       "      <td>0</td>\n",
       "      <td>1</td>\n",
       "      <td>0</td>\n",
       "      <td>31258</td>\n",
       "      <td>42</td>\n",
       "      <td>1</td>\n",
       "      <td>25.0</td>\n",
       "      <td>12</td>\n",
       "      <td>24</td>\n",
       "      <td>2.500000e-01</td>\n",
       "      <td>8</td>\n",
       "      <td>2.500000e-01</td>\n",
       "      <td>8.0</td>\n",
       "      <td>Silver</td>\n",
       "    </tr>\n",
       "    <tr>\n",
       "      <th>31259</th>\n",
       "      <td>2022-01-17</td>\n",
       "      <td>50</td>\n",
       "      <td>crossfit</td>\n",
       "      <td>1500</td>\n",
       "      <td>780</td>\n",
       "      <td>30</td>\n",
       "      <td>0</td>\n",
       "      <td>1</td>\n",
       "      <td>0</td>\n",
       "      <td>31259</td>\n",
       "      <td>37</td>\n",
       "      <td>3</td>\n",
       "      <td>56.0</td>\n",
       "      <td>55</td>\n",
       "      <td>55</td>\n",
       "      <td>5.625000e+03</td>\n",
       "      <td>16</td>\n",
       "      <td>5.625000e+03</td>\n",
       "      <td>16.0</td>\n",
       "      <td>Silver</td>\n",
       "    </tr>\n",
       "    <tr>\n",
       "      <th>31260</th>\n",
       "      <td>2022-02-02</td>\n",
       "      <td>111</td>\n",
       "      <td>not found</td>\n",
       "      <td>343</td>\n",
       "      <td>2806</td>\n",
       "      <td>50</td>\n",
       "      <td>0</td>\n",
       "      <td>0</td>\n",
       "      <td>1</td>\n",
       "      <td>31260</td>\n",
       "      <td>73</td>\n",
       "      <td>1</td>\n",
       "      <td>23.0</td>\n",
       "      <td>22</td>\n",
       "      <td>22</td>\n",
       "      <td>1.000000e+00</td>\n",
       "      <td>9</td>\n",
       "      <td>1.000000e+00</td>\n",
       "      <td>9.0</td>\n",
       "      <td>Basic I</td>\n",
       "    </tr>\n",
       "  </tbody>\n",
       "</table>\n",
       "<p>31261 rows × 20 columns</p>\n",
       "</div>"
      ],
      "text/plain": [
       "      communication_date  gym  gym_category  gym_days_since_first_visit  \\\n",
       "0             2021-10-25    0  bodybuilding                         472   \n",
       "1             2021-06-20    1     not found                        2176   \n",
       "2             2021-10-25    2  bodybuilding                         895   \n",
       "3             2021-10-25    3  bodybuilding                         896   \n",
       "4             2021-12-12    4     not found                        1516   \n",
       "...                  ...  ...           ...                         ...   \n",
       "31256         2021-12-04   19     not found                         144   \n",
       "31257         2021-12-04   19     not found                         144   \n",
       "31258         2021-12-11  109  bodybuilding                        1062   \n",
       "31259         2022-01-17   50      crossfit                        1500   \n",
       "31260         2022-02-02  111     not found                         343   \n",
       "\n",
       "       gym_last_60_days_visits  gyms_5km  is_churn  is_keep  is_upgrade  \\\n",
       "0                         3751        35         0        1           0   \n",
       "1                          357         7         0        1           0   \n",
       "2                         3132        41         0        1           0   \n",
       "3                         4775        42         0        1           0   \n",
       "4                          503        65         0        0           1   \n",
       "...                        ...       ...       ...      ...         ...   \n",
       "31256                    14979        28         0        0           1   \n",
       "31257                    14979        28         1        0           0   \n",
       "31258                     1466        69         0        1           0   \n",
       "31259                      780        30         0        1           0   \n",
       "31260                     2806        50         0        0           1   \n",
       "\n",
       "        user  user_age  user_billings  user_days_since_first_billing  \\\n",
       "0          0        50             13                         1833.0   \n",
       "1          1        45             87                         2608.0   \n",
       "2          2        27              9                          271.0   \n",
       "3          3        29              9                          271.0   \n",
       "4          4        22             20                          729.0   \n",
       "...      ...       ...            ...                            ...   \n",
       "31256  31256        22              2                           25.0   \n",
       "31257  31257        66              1                           19.0   \n",
       "31258  31258        42              1                           25.0   \n",
       "31259  31259        37              3                           56.0   \n",
       "31260  31260        73              1                           23.0   \n",
       "\n",
       "       user_days_since_first_gym_visit  user_days_since_first_visit  \\\n",
       "0                                  346                         1833   \n",
       "1                                   54                         1719   \n",
       "2                                  264                          271   \n",
       "3                                  268                          271   \n",
       "4                                  726                          726   \n",
       "...                                ...                          ...   \n",
       "31256                               24                           24   \n",
       "31257                               19                           19   \n",
       "31258                               12                           24   \n",
       "31259                               55                           55   \n",
       "31260                               22                           22   \n",
       "\n",
       "       user_last_60_days_visit_share  user_last_60_days_visits  \\\n",
       "0                       5.263158e+15                        19   \n",
       "1                       1.000000e+00                         2   \n",
       "2                       1.162791e+16                        43   \n",
       "3                       1.627907e+16                        43   \n",
       "4                       1.000000e+00                        29   \n",
       "...                              ...                       ...   \n",
       "31256                   2.500000e-01                         4   \n",
       "31257                   1.000000e+00                         1   \n",
       "31258                   2.500000e-01                         8   \n",
       "31259                   5.625000e+03                        16   \n",
       "31260                   1.000000e+00                         9   \n",
       "\n",
       "       user_lifetime_visit_share  user_lifetime_visits user_plan  \n",
       "0                   1.170213e+16                  94.0    Silver  \n",
       "1                   6.153846e+15                 325.0  Basic II  \n",
       "2                   1.206030e+16                 199.0   Basic I  \n",
       "3                   1.557789e+16                 199.0   Basic I  \n",
       "4                   1.000000e+00                 119.0    Silver  \n",
       "...                          ...                   ...       ...  \n",
       "31256               2.500000e-01                   4.0    Silver  \n",
       "31257               1.000000e+00                   1.0    Silver  \n",
       "31258               2.500000e-01                   8.0    Silver  \n",
       "31259               5.625000e+03                  16.0    Silver  \n",
       "31260               1.000000e+00                   9.0   Basic I  \n",
       "\n",
       "[31261 rows x 20 columns]"
      ]
     },
     "execution_count": 4,
     "metadata": {},
     "output_type": "execute_result"
    }
   ],
   "source": [
    "train_data = pd.read_excel('../data/raw/train.xlsx')\n",
    "submission_data = pd.read_excel('../data/raw/submission.xlsx')\n",
    "train_data"
   ]
  },
  {
   "cell_type": "markdown",
   "metadata": {},
   "source": [
    "# Preprocessing"
   ]
  },
  {
   "cell_type": "code",
   "execution_count": 5,
   "metadata": {},
   "outputs": [],
   "source": [
    "from helper import *\n",
    "%load_ext autoreload\n",
    "%autoreload 2"
   ]
  },
  {
   "cell_type": "code",
   "execution_count": 6,
   "metadata": {},
   "outputs": [],
   "source": [
    "# features\n",
    "train_data = preprocessing(train_data)"
   ]
  },
  {
   "cell_type": "code",
   "execution_count": 7,
   "metadata": {},
   "outputs": [
    {
     "data": {
      "text/plain": [
       "(['gym_days_since_first_visit',\n",
       "  'gym_last_60_days_visits',\n",
       "  'gym_visit_frequency',\n",
       "  'gyms_5km',\n",
       "  'months_usage',\n",
       "  'user_age',\n",
       "  'user_age_group',\n",
       "  'user_days_since_first_billing',\n",
       "  'user_days_since_first_gym_visit',\n",
       "  'user_days_since_first_visit',\n",
       "  'user_engagement',\n",
       "  'user_last_60_days_visit_share',\n",
       "  'user_last_60_days_visits',\n",
       "  'user_lifetime_visit_share',\n",
       "  'user_lifetime_visits',\n",
       "  'user_visit_frequency',\n",
       "  'years_usage'],\n",
       " ['gym_category', 'user_plan'])"
      ]
     },
     "execution_count": 7,
     "metadata": {},
     "output_type": "execute_result"
    }
   ],
   "source": [
    "FEATURES = get_features(train_data, TARGET_FEATURES, IGNORE_FEATURES)\n",
    "NUMERIC_FEATURES = sorted(get_numerical_features(train_data[FEATURES]))\n",
    "CATEGORICAL_FEATURES = sorted(get_categorical_features(train_data[FEATURES]))\n",
    "TARGET = \"churn_target\"\n",
    "MULTI_CLASS_TARGET = \"multiclass_target\"\n",
    "\n",
    "\n",
    "NUMERIC_FEATURES, CATEGORICAL_FEATURES"
   ]
  },
  {
   "cell_type": "code",
   "execution_count": 8,
   "metadata": {},
   "outputs": [
    {
     "data": {
      "text/plain": [
       "['user_lifetime_visit_share',\n",
       " 'user_engagement',\n",
       " 'user_visit_frequency',\n",
       " 'user_days_since_first_billing',\n",
       " 'gym_days_since_first_visit',\n",
       " 'gym_category',\n",
       " 'gym_visit_frequency',\n",
       " 'user_age',\n",
       " 'years_usage',\n",
       " 'user_age_group',\n",
       " 'gym_last_60_days_visits',\n",
       " 'gyms_5km',\n",
       " 'user_last_60_days_visits',\n",
       " 'user_days_since_first_visit',\n",
       " 'months_usage',\n",
       " 'user_plan',\n",
       " 'user_lifetime_visits',\n",
       " 'user_days_since_first_gym_visit',\n",
       " 'user_last_60_days_visit_share']"
      ]
     },
     "execution_count": 8,
     "metadata": {},
     "output_type": "execute_result"
    }
   ],
   "source": [
    "FEATURES"
   ]
  },
  {
   "cell_type": "markdown",
   "metadata": {},
   "source": [
    "# Split data"
   ]
  },
  {
   "cell_type": "code",
   "execution_count": 9,
   "metadata": {},
   "outputs": [
    {
     "name": "stdout",
     "output_type": "stream",
     "text": [
      "Training set shape: (24913, 19) (24913,)\n",
      "Testing set shape: (6348, 19) (6348,)\n"
     ]
    }
   ],
   "source": [
    "from sklearn.model_selection import train_test_split\n",
    "\n",
    "# Split the data into training and testing sets\n",
    "# TODO: I need to separate by gym index.\n",
    "\n",
    "gym_indexes = train_data.gym.unique()\n",
    "train_index, test_index = train_test_split(gym_indexes, test_size=0.2, random_state=42)\n",
    "\n",
    "train = train_data[train_data.gym.isin(train_index)]\n",
    "test = train_data[train_data.gym.isin(test_index)]\n",
    "\n",
    "X_train = train[FEATURES]\n",
    "y_train = train[TARGET]\n",
    "y_train2 = train[MULTI_CLASS_TARGET]\n",
    "\n",
    "X_test = test[FEATURES]\n",
    "y_test = test[TARGET]\n",
    "\n",
    "# Print the shapes of the training and testing sets\n",
    "print(\"Training set shape:\", X_train.shape, y_train.shape)\n",
    "print(\"Testing set shape:\", X_test.shape, y_test.shape)\n"
   ]
  },
  {
   "cell_type": "code",
   "execution_count": 10,
   "metadata": {},
   "outputs": [],
   "source": [
    "train.to_parquet(\"data/train.parquet\")\n",
    "test.to_parquet(\"data/test.parquet\")"
   ]
  },
  {
   "cell_type": "markdown",
   "metadata": {},
   "source": [
    "# Heuristic Baseline\n",
    "- The less user engagement it is more likely to churn\n",
    "- Tried the threshold considering the class distribution"
   ]
  },
  {
   "cell_type": "code",
   "execution_count": 11,
   "metadata": {},
   "outputs": [],
   "source": [
    "threshold_user_engagement = X_train.user_engagement.quantile(0.20)\n",
    "\n",
    "# heuristic_predict'] = (X_train.user_engagement < threshold_user_engagement).astype(bool)\n",
    "heuristic_predict = (X_test.user_engagement < threshold_user_engagement).astype(bool)"
   ]
  },
  {
   "cell_type": "code",
   "execution_count": 12,
   "metadata": {},
   "outputs": [
    {
     "data": {
      "text/plain": [
       "churn_target\n",
       "0    0.825152\n",
       "1    0.174848\n",
       "Name: proportion, dtype: float64"
      ]
     },
     "execution_count": 12,
     "metadata": {},
     "output_type": "execute_result"
    }
   ],
   "source": [
    "y_train.value_counts(normalize=True)"
   ]
  },
  {
   "cell_type": "code",
   "execution_count": 13,
   "metadata": {},
   "outputs": [
    {
     "data": {
      "text/plain": [
       "user_engagement\n",
       "False    0.796944\n",
       "True     0.203056\n",
       "Name: proportion, dtype: float64"
      ]
     },
     "execution_count": 13,
     "metadata": {},
     "output_type": "execute_result"
    }
   ],
   "source": [
    "heuristic_predict.value_counts(normalize=True)"
   ]
  },
  {
   "cell_type": "code",
   "execution_count": 14,
   "metadata": {},
   "outputs": [
    {
     "data": {
      "text/plain": [
       "['predictions/heuristic_predict.bin']"
      ]
     },
     "execution_count": 14,
     "metadata": {},
     "output_type": "execute_result"
    }
   ],
   "source": [
    "\n",
    "joblib.dump(heuristic_predict, 'predictions/heuristic_predict.bin')"
   ]
  },
  {
   "cell_type": "code",
   "execution_count": 15,
   "metadata": {},
   "outputs": [
    {
     "name": "stdout",
     "output_type": "stream",
     "text": [
      "              precision    recall  f1-score   support\n",
      "\n",
      "   non-churn       0.85      0.81      0.83      5343\n",
      "       churn       0.20      0.26      0.22      1005\n",
      "\n",
      "    accuracy                           0.72      6348\n",
      "   macro avg       0.53      0.53      0.53      6348\n",
      "weighted avg       0.75      0.72      0.73      6348\n",
      "\n"
     ]
    }
   ],
   "source": [
    "from sklearn.metrics import classification_report\n",
    "print(classification_report(y_test, heuristic_predict, target_names=['non-churn', 'churn']))"
   ]
  },
  {
   "cell_type": "code",
   "execution_count": 22,
   "metadata": {},
   "outputs": [
    {
     "data": {
      "image/png": "[encoded data removed]",
      "text/plain": [
       "<Figure size 640x480 with 2 Axes>"
      ]
     },
     "metadata": {},
     "output_type": "display_data"
    }
   ],
   "source": [
    "from sklearn.metrics import confusion_matrix, ConfusionMatrixDisplay\n",
    "import matplotlib.pyplot as plt\n",
    "\n",
    "# Compute the confusion matrix\n",
    "cm = confusion_matrix(y_test, heuristic_predict, normalize='true')\n",
    "\n",
    "# Define the class labels\n",
    "labels = ['Non-churn', \"Churn\"]  # Replace with your class labels\n",
    "\n",
    "# Create a confusion matrix display\n",
    "cm_display = ConfusionMatrixDisplay(confusion_matrix=cm, display_labels=labels)\n",
    "\n",
    "# Plot the confusion matrix\n",
    "cm_display.plot(cmap='Blues')\n",
    "plt.title('Confusion Matrix')\n",
    "plt.xlabel('Predicted Label')\n",
    "plt.ylabel('True Label')\n",
    "plt.show()"
   ]
  },
  {
   "cell_type": "markdown",
   "metadata": {},
   "source": [
    "# Decision Tree"
   ]
  },
  {
   "cell_type": "code",
   "execution_count": 18,
   "metadata": {},
   "outputs": [
    {
     "data": {
      "text/html": [
       "<style>#sk-container-id-1 {color: black;background-color: white;}#sk-container-id-1 pre{padding: 0;}#sk-container-id-1 div.sk-toggleable {background-color: white;}#sk-container-id-1 label.sk-toggleable__label {cursor: pointer;display: block;width: 100%;margin-bottom: 0;padding: 0.3em;box-sizing: border-box;text-align: center;}#sk-container-id-1 label.sk-toggleable__label-arrow:before {content: \"▸\";float: left;margin-right: 0.25em;color: #696969;}#sk-container-id-1 label.sk-toggleable__label-arrow:hover:before {color: black;}#sk-container-id-1 div.sk-estimator:hover label.sk-toggleable__label-arrow:before {color: black;}#sk-container-id-1 div.sk-toggleable__content {max-height: 0;max-width: 0;overflow: hidden;text-align: left;background-color: #f0f8ff;}#sk-container-id-1 div.sk-toggleable__content pre {margin: 0.2em;color: black;border-radius: 0.25em;background-color: #f0f8ff;}#sk-container-id-1 input.sk-toggleable__control:checked~div.sk-toggleable__content {max-height: 200px;max-width: 100%;overflow: auto;}#sk-container-id-1 input.sk-toggleable__control:checked~label.sk-toggleable__label-arrow:before {content: \"▾\";}#sk-container-id-1 div.sk-estimator input.sk-toggleable__control:checked~label.sk-toggleable__label {background-color: #d4ebff;}#sk-container-id-1 div.sk-label input.sk-toggleable__control:checked~label.sk-toggleable__label {background-color: #d4ebff;}#sk-container-id-1 input.sk-hidden--visually {border: 0;clip: rect(1px 1px 1px 1px);clip: rect(1px, 1px, 1px, 1px);height: 1px;margin: -1px;overflow: hidden;padding: 0;position: absolute;width: 1px;}#sk-container-id-1 div.sk-estimator {font-family: monospace;background-color: #f0f8ff;border: 1px dotted black;border-radius: 0.25em;box-sizing: border-box;margin-bottom: 0.5em;}#sk-container-id-1 div.sk-estimator:hover {background-color: #d4ebff;}#sk-container-id-1 div.sk-parallel-item::after {content: \"\";width: 100%;border-bottom: 1px solid gray;flex-grow: 1;}#sk-container-id-1 div.sk-label:hover label.sk-toggleable__label {background-color: #d4ebff;}#sk-container-id-1 div.sk-serial::before {content: \"\";position: absolute;border-left: 1px solid gray;box-sizing: border-box;top: 0;bottom: 0;left: 50%;z-index: 0;}#sk-container-id-1 div.sk-serial {display: flex;flex-direction: column;align-items: center;background-color: white;padding-right: 0.2em;padding-left: 0.2em;position: relative;}#sk-container-id-1 div.sk-item {position: relative;z-index: 1;}#sk-container-id-1 div.sk-parallel {display: flex;align-items: stretch;justify-content: center;background-color: white;position: relative;}#sk-container-id-1 div.sk-item::before, #sk-container-id-1 div.sk-parallel-item::before {content: \"\";position: absolute;border-left: 1px solid gray;box-sizing: border-box;top: 0;bottom: 0;left: 50%;z-index: -1;}#sk-container-id-1 div.sk-parallel-item {display: flex;flex-direction: column;z-index: 1;position: relative;background-color: white;}#sk-container-id-1 div.sk-parallel-item:first-child::after {align-self: flex-end;width: 50%;}#sk-container-id-1 div.sk-parallel-item:last-child::after {align-self: flex-start;width: 50%;}#sk-container-id-1 div.sk-parallel-item:only-child::after {width: 0;}#sk-container-id-1 div.sk-dashed-wrapped {border: 1px dashed gray;margin: 0 0.4em 0.5em 0.4em;box-sizing: border-box;padding-bottom: 0.4em;background-color: white;}#sk-container-id-1 div.sk-label label {font-family: monospace;font-weight: bold;display: inline-block;line-height: 1.2em;}#sk-container-id-1 div.sk-label-container {text-align: center;}#sk-container-id-1 div.sk-container {/* jupyter's `normalize.less` sets `[hidden] { display: none; }` but bootstrap.min.css set `[hidden] { display: none !important; }` so we also need the `!important` here to be able to override the default hidden behavior on the sphinx rendered scikit-learn.org. See: https://github.com/scikit-learn/scikit-learn/issues/21755 */display: inline-block !important;position: relative;}#sk-container-id-1 div.sk-text-repr-fallback {display: none;}</style><div id=\"sk-container-id-1\" class=\"sk-top-container\"><div class=\"sk-text-repr-fallback\"><pre>Pipeline(steps=[(&#x27;preprocessor&#x27;,\n",
       "                 ColumnTransformer(transformers=[(&#x27;num&#x27;,\n",
       "                                                  SimpleImputer(strategy=&#x27;median&#x27;),\n",
       "                                                  [&#x27;gym_days_since_first_visit&#x27;,\n",
       "                                                   &#x27;gym_last_60_days_visits&#x27;,\n",
       "                                                   &#x27;gym_visit_frequency&#x27;,\n",
       "                                                   &#x27;gyms_5km&#x27;, &#x27;months_usage&#x27;,\n",
       "                                                   &#x27;user_age&#x27;, &#x27;user_age_group&#x27;,\n",
       "                                                   &#x27;user_days_since_first_billing&#x27;,\n",
       "                                                   &#x27;user_days_since_first_gym_visit&#x27;,\n",
       "                                                   &#x27;user_days_since_first_visit&#x27;,\n",
       "                                                   &#x27;user_engagement&#x27;,\n",
       "                                                   &#x27;user_last_60_days_visit_share&#x27;,\n",
       "                                                   &#x27;user_last_60_days_visits&#x27;,\n",
       "                                                   &#x27;user_lifetime_visit_share&#x27;,\n",
       "                                                   &#x27;user_lifetime_visits&#x27;,\n",
       "                                                   &#x27;user_visit_frequency&#x27;,\n",
       "                                                   &#x27;years_usage&#x27;]),\n",
       "                                                 (&#x27;cat&#x27;, OneHotEncoder(),\n",
       "                                                  [&#x27;gym_category&#x27;,\n",
       "                                                   &#x27;user_plan&#x27;])])),\n",
       "                (&#x27;model&#x27;, DecisionTreeClassifier(class_weight=&#x27;balanced&#x27;))])</pre><b>In a Jupyter environment, please rerun this cell to show the HTML representation or trust the notebook. <br />On GitHub, the HTML representation is unable to render, please try loading this page with nbviewer.org.</b></div><div class=\"sk-container\" hidden><div class=\"sk-item sk-dashed-wrapped\"><div class=\"sk-label-container\"><div class=\"sk-label sk-toggleable\"><input class=\"sk-toggleable__control sk-hidden--visually\" id=\"sk-estimator-id-1\" type=\"checkbox\" ><label for=\"sk-estimator-id-1\" class=\"sk-toggleable__label sk-toggleable__label-arrow\">Pipeline</label><div class=\"sk-toggleable__content\"><pre>Pipeline(steps=[(&#x27;preprocessor&#x27;,\n",
       "                 ColumnTransformer(transformers=[(&#x27;num&#x27;,\n",
       "                                                  SimpleImputer(strategy=&#x27;median&#x27;),\n",
       "                                                  [&#x27;gym_days_since_first_visit&#x27;,\n",
       "                                                   &#x27;gym_last_60_days_visits&#x27;,\n",
       "                                                   &#x27;gym_visit_frequency&#x27;,\n",
       "                                                   &#x27;gyms_5km&#x27;, &#x27;months_usage&#x27;,\n",
       "                                                   &#x27;user_age&#x27;, &#x27;user_age_group&#x27;,\n",
       "                                                   &#x27;user_days_since_first_billing&#x27;,\n",
       "                                                   &#x27;user_days_since_first_gym_visit&#x27;,\n",
       "                                                   &#x27;user_days_since_first_visit&#x27;,\n",
       "                                                   &#x27;user_engagement&#x27;,\n",
       "                                                   &#x27;user_last_60_days_visit_share&#x27;,\n",
       "                                                   &#x27;user_last_60_days_visits&#x27;,\n",
       "                                                   &#x27;user_lifetime_visit_share&#x27;,\n",
       "                                                   &#x27;user_lifetime_visits&#x27;,\n",
       "                                                   &#x27;user_visit_frequency&#x27;,\n",
       "                                                   &#x27;years_usage&#x27;]),\n",
       "                                                 (&#x27;cat&#x27;, OneHotEncoder(),\n",
       "                                                  [&#x27;gym_category&#x27;,\n",
       "                                                   &#x27;user_plan&#x27;])])),\n",
       "                (&#x27;model&#x27;, DecisionTreeClassifier(class_weight=&#x27;balanced&#x27;))])</pre></div></div></div><div class=\"sk-serial\"><div class=\"sk-item sk-dashed-wrapped\"><div class=\"sk-label-container\"><div class=\"sk-label sk-toggleable\"><input class=\"sk-toggleable__control sk-hidden--visually\" id=\"sk-estimator-id-2\" type=\"checkbox\" ><label for=\"sk-estimator-id-2\" class=\"sk-toggleable__label sk-toggleable__label-arrow\">preprocessor: ColumnTransformer</label><div class=\"sk-toggleable__content\"><pre>ColumnTransformer(transformers=[(&#x27;num&#x27;, SimpleImputer(strategy=&#x27;median&#x27;),\n",
       "                                 [&#x27;gym_days_since_first_visit&#x27;,\n",
       "                                  &#x27;gym_last_60_days_visits&#x27;,\n",
       "                                  &#x27;gym_visit_frequency&#x27;, &#x27;gyms_5km&#x27;,\n",
       "                                  &#x27;months_usage&#x27;, &#x27;user_age&#x27;, &#x27;user_age_group&#x27;,\n",
       "                                  &#x27;user_days_since_first_billing&#x27;,\n",
       "                                  &#x27;user_days_since_first_gym_visit&#x27;,\n",
       "                                  &#x27;user_days_since_first_visit&#x27;,\n",
       "                                  &#x27;user_engagement&#x27;,\n",
       "                                  &#x27;user_last_60_days_visit_share&#x27;,\n",
       "                                  &#x27;user_last_60_days_visits&#x27;,\n",
       "                                  &#x27;user_lifetime_visit_share&#x27;,\n",
       "                                  &#x27;user_lifetime_visits&#x27;,\n",
       "                                  &#x27;user_visit_frequency&#x27;, &#x27;years_usage&#x27;]),\n",
       "                                (&#x27;cat&#x27;, OneHotEncoder(),\n",
       "                                 [&#x27;gym_category&#x27;, &#x27;user_plan&#x27;])])</pre></div></div></div><div class=\"sk-parallel\"><div class=\"sk-parallel-item\"><div class=\"sk-item\"><div class=\"sk-label-container\"><div class=\"sk-label sk-toggleable\"><input class=\"sk-toggleable__control sk-hidden--visually\" id=\"sk-estimator-id-3\" type=\"checkbox\" ><label for=\"sk-estimator-id-3\" class=\"sk-toggleable__label sk-toggleable__label-arrow\">num</label><div class=\"sk-toggleable__content\"><pre>[&#x27;gym_days_since_first_visit&#x27;, &#x27;gym_last_60_days_visits&#x27;, &#x27;gym_visit_frequency&#x27;, &#x27;gyms_5km&#x27;, &#x27;months_usage&#x27;, &#x27;user_age&#x27;, &#x27;user_age_group&#x27;, &#x27;user_days_since_first_billing&#x27;, &#x27;user_days_since_first_gym_visit&#x27;, &#x27;user_days_since_first_visit&#x27;, &#x27;user_engagement&#x27;, &#x27;user_last_60_days_visit_share&#x27;, &#x27;user_last_60_days_visits&#x27;, &#x27;user_lifetime_visit_share&#x27;, &#x27;user_lifetime_visits&#x27;, &#x27;user_visit_frequency&#x27;, &#x27;years_usage&#x27;]</pre></div></div></div><div class=\"sk-serial\"><div class=\"sk-item\"><div class=\"sk-estimator sk-toggleable\"><input class=\"sk-toggleable__control sk-hidden--visually\" id=\"sk-estimator-id-4\" type=\"checkbox\" ><label for=\"sk-estimator-id-4\" class=\"sk-toggleable__label sk-toggleable__label-arrow\">SimpleImputer</label><div class=\"sk-toggleable__content\"><pre>SimpleImputer(strategy=&#x27;median&#x27;)</pre></div></div></div></div></div></div><div class=\"sk-parallel-item\"><div class=\"sk-item\"><div class=\"sk-label-container\"><div class=\"sk-label sk-toggleable\"><input class=\"sk-toggleable__control sk-hidden--visually\" id=\"sk-estimator-id-5\" type=\"checkbox\" ><label for=\"sk-estimator-id-5\" class=\"sk-toggleable__label sk-toggleable__label-arrow\">cat</label><div class=\"sk-toggleable__content\"><pre>[&#x27;gym_category&#x27;, &#x27;user_plan&#x27;]</pre></div></div></div><div class=\"sk-serial\"><div class=\"sk-item\"><div class=\"sk-estimator sk-toggleable\"><input class=\"sk-toggleable__control sk-hidden--visually\" id=\"sk-estimator-id-6\" type=\"checkbox\" ><label for=\"sk-estimator-id-6\" class=\"sk-toggleable__label sk-toggleable__label-arrow\">OneHotEncoder</label><div class=\"sk-toggleable__content\"><pre>OneHotEncoder()</pre></div></div></div></div></div></div></div></div><div class=\"sk-item\"><div class=\"sk-estimator sk-toggleable\"><input class=\"sk-toggleable__control sk-hidden--visually\" id=\"sk-estimator-id-7\" type=\"checkbox\" ><label for=\"sk-estimator-id-7\" class=\"sk-toggleable__label sk-toggleable__label-arrow\">DecisionTreeClassifier</label><div class=\"sk-toggleable__content\"><pre>DecisionTreeClassifier(class_weight=&#x27;balanced&#x27;)</pre></div></div></div></div></div></div></div>"
      ],
      "text/plain": [
       "Pipeline(steps=[('preprocessor',\n",
       "                 ColumnTransformer(transformers=[('num',\n",
       "                                                  SimpleImputer(strategy='median'),\n",
       "                                                  ['gym_days_since_first_visit',\n",
       "                                                   'gym_last_60_days_visits',\n",
       "                                                   'gym_visit_frequency',\n",
       "                                                   'gyms_5km', 'months_usage',\n",
       "                                                   'user_age', 'user_age_group',\n",
       "                                                   'user_days_since_first_billing',\n",
       "                                                   'user_days_since_first_gym_visit',\n",
       "                                                   'user_days_since_first_visit',\n",
       "                                                   'user_engagement',\n",
       "                                                   'user_last_60_days_visit_share',\n",
       "                                                   'user_last_60_days_visits',\n",
       "                                                   'user_lifetime_visit_share',\n",
       "                                                   'user_lifetime_visits',\n",
       "                                                   'user_visit_frequency',\n",
       "                                                   'years_usage']),\n",
       "                                                 ('cat', OneHotEncoder(),\n",
       "                                                  ['gym_category',\n",
       "                                                   'user_plan'])])),\n",
       "                ('model', DecisionTreeClassifier(class_weight='balanced'))])"
      ]
     },
     "execution_count": 18,
     "metadata": {},
     "output_type": "execute_result"
    }
   ],
   "source": [
    "from sklearn.compose import ColumnTransformer\n",
    "from sklearn.preprocessing import OneHotEncoder\n",
    "from sklearn.tree import DecisionTreeClassifier\n",
    "from sklearn.pipeline import Pipeline\n",
    "from sklearn.impute import SimpleImputer\n",
    "\n",
    "# Define the pipeline\n",
    "# Create the column transformer\n",
    "preprocessor = ColumnTransformer(\n",
    "    transformers=[\n",
    "        ('num', SimpleImputer(strategy='median'), NUMERIC_FEATURES),\n",
    "        ('cat', OneHotEncoder(), CATEGORICAL_FEATURES)])\n",
    "\n",
    "# Define the pipeline\n",
    "pipeline = Pipeline(steps=[\n",
    "    ('preprocessor', preprocessor),  # Preprocessing (imputation + one-hot encoding)\n",
    "    ('model', DecisionTreeClassifier(class_weight='balanced'))  # Model\n",
    "])\n",
    "\n",
    "# Fit the pipeline to the training data\n",
    "pipeline.fit(X_train, y_train)\n"
   ]
  },
  {
   "cell_type": "code",
   "execution_count": 19,
   "metadata": {},
   "outputs": [
    {
     "name": "stdout",
     "output_type": "stream",
     "text": [
      "[0. 0. 0. ... 0. 0. 0.]\n",
      "Counter({0: 5407, 1: 941})\n",
      "              precision    recall  f1-score   support\n",
      "\n",
      "           0       0.85      0.86      0.85      5343\n",
      "           1       0.20      0.19      0.19      1005\n",
      "\n",
      "    accuracy                           0.75      6348\n",
      "   macro avg       0.52      0.52      0.52      6348\n",
      "weighted avg       0.75      0.75      0.75      6348\n",
      "\n"
     ]
    }
   ],
   "source": [
    "from collections import Counter\n",
    "y_pred_class = pipeline.predict(X_test)\n",
    "y_pred_proba = pipeline.predict_proba(X_test)[:,1]\n",
    "print(y_pred_proba)\n",
    "print(Counter(y_pred_class))\n",
    "print(classification_report(y_test, y_pred_class))"
   ]
  },
  {
   "cell_type": "code",
   "execution_count": 23,
   "metadata": {},
   "outputs": [
    {
     "data": {
      "image/png": "[encoded data removed]",
      "text/plain": [
       "<Figure size 640x480 with 2 Axes>"
      ]
     },
     "metadata": {},
     "output_type": "display_data"
    }
   ],
   "source": [
    "from sklearn.metrics import confusion_matrix, ConfusionMatrixDisplay\n",
    "import matplotlib.pyplot as plt\n",
    "\n",
    "# Compute the confusion matrix\n",
    "cm = confusion_matrix(y_test, y_pred_class, normalize='true')\n",
    "\n",
    "# Define the class labels\n",
    "labels = ['Non-churn', \"Churn\"]  # Replace with your class labels\n",
    "\n",
    "# Create a confusion matrix display\n",
    "cm_display = ConfusionMatrixDisplay(confusion_matrix=cm, display_labels=labels)\n",
    "\n",
    "# Plot the confusion matrix\n",
    "cm_display.plot(cmap='Blues')\n",
    "plt.title('Confusion Matrix')\n",
    "plt.xlabel('Predicted Label')\n",
    "plt.ylabel('True Label')\n",
    "plt.show()"
   ]
  },
  {
   "cell_type": "code",
   "execution_count": 24,
   "metadata": {},
   "outputs": [
    {
     "data": {
      "text/plain": [
       "['predictions/decision_tree_baseline.bin']"
      ]
     },
     "execution_count": 24,
     "metadata": {},
     "output_type": "execute_result"
    }
   ],
   "source": [
    "joblib.dump(y_pred_proba, \"predictions/decision_tree_baseline.bin\")"
   ]
  },
  {
   "cell_type": "code",
   "execution_count": null,
   "metadata": {},
   "outputs": [],
   "source": []
  }
 ],
 "metadata": {
  "kernelspec": {
   "display_name": "challenges",
   "language": "python",
   "name": "python3"
  },
  "language_info": {
   "codemirror_mode": {
    "name": "ipython",
    "version": 3
   },
   "file_extension": ".py",
   "mimetype": "text/x-python",
   "name": "python",
   "nbconvert_exporter": "python",
   "pygments_lexer": "ipython3",
   "version": "3.9.16"
  },
  "orig_nbformat": 4
 },
 "nbformat": 4,
 "nbformat_minor": 2
}
